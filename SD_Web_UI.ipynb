{
  "cells": [
    {
      "cell_type": "markdown",
      "metadata": {
        "id": "view-in-github",
        "colab_type": "text"
      },
      "source": [
        "<a href=\"https://colab.research.google.com/github/McRoyce/stable-diffusion-webui-colaboratory/blob/main/SD_Web_UI.ipynb\" target=\"_parent\"><img src=\"https://colab.research.google.com/assets/colab-badge.svg\" alt=\"Open In Colab\"/></a>"
      ]
    },
    {
      "cell_type": "markdown",
      "source": [
        "#This Notebook Made with ❤️ by McRoyce"
      ],
      "metadata": {
        "id": "gOhvpaHYYJnM"
      }
    },
    {
      "cell_type": "markdown",
      "metadata": {
        "id": "6YImztr-0nHl"
      },
      "source": [
        "#**Installation**\n",
        "1. Run the first cell by click play button.\n",
        "2. Open the link after shows https://numbers.gradio.app\" in output.\n",
        "3. Use Stable Diffusion checkpoint dropdown to change the model.\n",
        "<br>\n",
        "<br>\n",
        "**How to add custom LoRA, Checkpoint & Textual Inversion via CivitAi:**\n",
        "1. On the Web UI press the \"CivitAi\" tab.\n",
        "2. Select a content type.\n",
        "3. Check the \"Search by term?\" box.\n",
        "4. Search using keywords in the search box.\n",
        "5. Press \"Get List\" button.\n",
        "6. You can see the search results in the dropdown model.\n",
        "7. After you choose the model, press \"Download Model\" button.\n",
        "<br>\n",
        "<br>\n",
        "**How to use LoRA:** \n",
        "1. On the Web UI go to scroll down and click Additional Networks.\n",
        "2. Check the \"Enable\" box.\n",
        "3. Select LoRA model.\n",
        "4. Set the lora weight.\n",
        "<br>\n",
        "<br>\n",
        "**If you want add custom the Extensions (Optional):**\n",
        "1. Search the Extensions on GitHub\n",
        "2. Copy repository link.\n",
        "3. Paste the repository link in colab notebook.\n",
        "4. Set the repository name in colab notebook.\n",
        "<br>\n",
        "<br>\n",
        "**If you want add custom the Model & Embedding via Colab Notebook (Optional):**\n",
        "1. Search the Model/Checkpoint & Embedding/Textual Inversion on Civitai.com or HuggingFace.co or Anywhere.\n",
        "2. Copy the direct link download.\n",
        "3. Paste the direct link download in colab notebook.\n",
        "4. Set the filename in colab notebook."
      ]
    },
    {
      "cell_type": "code",
      "execution_count": null,
      "metadata": {
        "id": "FralfkJAvw01"
      },
      "outputs": [],
      "source": [
        "#Web UI Setup\n",
        "!apt-get -y install -qq aria2\n",
        "!pip install https://github.com/camenduru/stable-diffusion-webui-colab/releases/download/0.0.16/xformers-0.0.16+814314d.d20230118-cp38-cp38-linux_x86_64.whl\n",
        "!pip install -q --pre triton\n",
        "!git clone -b v2.0 https://github.com/camenduru/stable-diffusion-webui\n",
        "!wget https://raw.githubusercontent.com/camenduru/stable-diffusion-webui-scripts/main/run_n_times.py -O /content/stable-diffusion-webui/scripts/run_n_times.py\n",
        "\n",
        "\n",
        "\n",
        "#Extension(s) Setup\n",
        "#Example:\n",
        "#!git clone (Repository_Link) /content/stable-diffusion-webui/extensions/(Repository_Name)\n",
        "\n",
        "!git clone https://github.com/deforum-art/deforum-for-automatic1111-webui /content/stable-diffusion-webui/extensions/deforum-for-automatic1111-webui\n",
        "!git clone https://github.com/AlUlkesh/stable-diffusion-webui-images-browser /content/stable-diffusion-webui/extensions/stable-diffusion-webui-images-browser\n",
        "!git clone https://github.com/camenduru/stable-diffusion-webui-huggingface /content/stable-diffusion-webui/extensions/stable-diffusion-webui-huggingface\n",
        "!git clone -b v2.0 https://github.com/camenduru/sd-civitai-browser /content/stable-diffusion-webui/extensions/sd-civitai-browser\n",
        "!git clone https://github.com/kohya-ss/sd-webui-additional-networks /content/stable-diffusion-webui/extensions/sd-webui-additional-networks\n",
        "!git clone https://github.com/Mikubill/sd-webui-controlnet /content/stable-diffusion-webui/extensions/sd-webui-controlnet\n",
        "!git clone https://github.com/camenduru/openpose-editor /content/stable-diffusion-webui/extensions/openpose-editor\n",
        "%cd /content/stable-diffusion-webui\n",
        "\n",
        "\n",
        "\n",
        "#ControlNet Setup\n",
        "!aria2c --console-log-level=error -c -x 16 -s 16 -k 1M https://huggingface.co/webui/ControlNet-modules-safetensors/resolve/main/control_canny-fp16.safetensors -d /content/stable-diffusion-webui/extensions/sd-webui-controlnet/models -o control_canny-fp16.safetensors\n",
        "!aria2c --console-log-level=error -c -x 16 -s 16 -k 1M https://huggingface.co/webui/ControlNet-modules-safetensors/resolve/main/control_depth-fp16.safetensors -d /content/stable-diffusion-webui/extensions/sd-webui-controlnet/models -o control_depth-fp16.safetensors\n",
        "!aria2c --console-log-level=error -c -x 16 -s 16 -k 1M https://huggingface.co/webui/ControlNet-modules-safetensors/resolve/main/control_hed-fp16.safetensors -d /content/stable-diffusion-webui/extensions/sd-webui-controlnet/models -o control_hed-fp16.safetensors\n",
        "!aria2c --console-log-level=error -c -x 16 -s 16 -k 1M https://huggingface.co/webui/ControlNet-modules-safetensors/resolve/main/control_mlsd-fp16.safetensors -d /content/stable-diffusion-webui/extensions/sd-webui-controlnet/models -o control_mlsd-fp16.safetensors\n",
        "!aria2c --console-log-level=error -c -x 16 -s 16 -k 1M https://huggingface.co/webui/ControlNet-modules-safetensors/resolve/main/control_normal-fp16.safetensors -d /content/stable-diffusion-webui/extensions/sd-webui-controlnet/models -o control_normal-fp16.safetensors\n",
        "!aria2c --console-log-level=error -c -x 16 -s 16 -k 1M https://huggingface.co/webui/ControlNet-modules-safetensors/resolve/main/control_openpose-fp16.safetensors -d /content/stable-diffusion-webui/extensions/sd-webui-controlnet/models -o control_openpose-fp16.safetensors\n",
        "!aria2c --console-log-level=error -c -x 16 -s 16 -k 1M https://huggingface.co/webui/ControlNet-modules-safetensors/resolve/main/control_scribble-fp16.safetensors -d /content/stable-diffusion-webui/extensions/sd-webui-controlnet/models -o control_scribble-fp16.safetensors\n",
        "!aria2c --console-log-level=error -c -x 16 -s 16 -k 1M https://huggingface.co/webui/ControlNet-modules-safetensors/resolve/main/control_seg-fp16.safetensors -d /content/stable-diffusion-webui/extensions/sd-webui-controlnet/models -o control_seg-fp16.safetensors\n",
        "!aria2c --console-log-level=error -c -x 16 -s 16 -k 1M https://huggingface.co/ckpt/ControlNet/resolve/main/hand_pose_model.pth -d /content/stable-diffusion-webui/extensions/sd-webui-controlnet/annotator/openpose -o hand_pose_model.pth\n",
        "!aria2c --console-log-level=error -c -x 16 -s 16 -k 1M https://huggingface.co/ckpt/ControlNet/resolve/main/body_pose_model.pth -d /content/stable-diffusion-webui/extensions/sd-webui-controlnet/annotator/openpose -o body_pose_model.pth\n",
        "!aria2c --console-log-level=error -c -x 16 -s 16 -k 1M https://huggingface.co/ckpt/ControlNet/resolve/main/dpt_hybrid-midas-501f0c75.pt -d /content/stable-diffusion-webui/extensions/sd-webui-controlnet/annotator/midas -o dpt_hybrid-midas-501f0c75.pt\n",
        "!aria2c --console-log-level=error -c -x 16 -s 16 -k 1M https://huggingface.co/ckpt/ControlNet/resolve/main/mlsd_large_512_fp32.pth -d /content/stable-diffusion-webui/extensions/sd-webui-controlnet/annotator/mlsd -o mlsd_large_512_fp32.pth\n",
        "!aria2c --console-log-level=error -c -x 16 -s 16 -k 1M https://huggingface.co/ckpt/ControlNet/resolve/main/mlsd_tiny_512_fp32.pth -d /content/stable-diffusion-webui/extensions/sd-webui-controlnet/annotator/mlsd -o mlsd_tiny_512_fp32.pth\n",
        "!aria2c --console-log-level=error -c -x 16 -s 16 -k 1M https://huggingface.co/ckpt/ControlNet/resolve/main/network-bsds500.pth -d /content/stable-diffusion-webui/extensions/sd-webui-controlnet/annotator/hed -o network-bsds500.pth\n",
        "!aria2c --console-log-level=error -c -x 16 -s 16 -k 1M https://huggingface.co/ckpt/ControlNet/resolve/main/upernet_global_small.pth -d /content/stable-diffusion-webui/extensions/sd-webui-controlnet/annotator/uniformer -o upernet_global_small.pth\n",
        "\n",
        "\n",
        "\n",
        "#Model or Checkpoint(s) Setup\n",
        "#Example:\n",
        "#!aria2c --console-log-level=error -c -x 16 -s 16 -k 1M (Model_Direct_Link_Download) -d /content/stable-diffusion-webui/models/Stable-diffusion -o (Model_Filename.safetensors/.pt)\n",
        "\n",
        "!aria2c --console-log-level=error -c -x 16 -s 16 -k 1M https://civitai.com/api/download/models/9000 -d /content/stable-diffusion-webui/models/Stable-diffusion -o grapefruitHentaiModel_grapefruitv4.safetensors\n",
        "!aria2c --console-log-level=error -c -x 16 -s 16 -k 1M https://huggingface.co/TASUKU2023/Chilloutmix/resolve/main/Chilloutmix-Ni.safetensors -d /content/stable-diffusion-webui/models/Stable-diffusion -o Chilloutmix-Ni.safetensors\n",
        "\n",
        "\n",
        "\n",
        "#Embedding or Textual Inversion(s) Setup\n",
        "#Example:\n",
        "#!aria2c --console-log-level=error -c -x 16 -s 16 -k 1M (Embedding_Direct_Link_Download) -d /content/stable-diffusion-webui/embeddings -o (Embedding_Filename.pt)\n",
        "\n",
        "!aria2c --console-log-level=error -c -x 16 -s 16 -k 1M https://moritz.pm/files/ulzzang-6500.pt -d /content/stable-diffusion-webui/embeddings -o ulzzang-6500.pt\n",
        "!aria2c --console-log-level=error -c -x 16 -s 16 -k 1M https://huggingface.co/NiXXerHATTER59/bad-artist/resolve/main/bad-artist-anime.pt -d /content/stable-diffusion-webui/embeddings -o bad-artist-anime.pt\n",
        "!aria2c --console-log-level=error -c -x 16 -s 16 -k 1M https://huggingface.co/NiXXerHATTER59/bad-artist/resolve/main/bad-artist.pt -d /content/stable-diffusion-webui/embeddings -o bad-artist.pt\n",
        "!aria2c --console-log-level=error -c -x 16 -s 16 -k 1M https://huggingface.co/datasets/Nerfgun3/bad_prompt/resolve/main/bad_prompt_version2.pt -d /content/stable-diffusion-webui/embeddings -o bad_prompt_version2.pt\n",
        "\n",
        "\n",
        "\n",
        "#Launch Web UI\n",
        "!sed -i -e '''/prepare_environment()/a\\    os.system\\(f\\\"\"\"sed -i -e ''\\\"s/dict()))/dict())).cuda()/g\\\"'' /content/stable-diffusion-webui/repositories/stable-diffusion-stability-ai/ldm/util.py\"\"\")''' /content/stable-diffusion-webui/launch.py\n",
        "!python launch.py --share --xformers --enable-insecure-extension-access --gradio-queue\n",
        "\n",
        "\n"
      ]
    }
  ],
  "metadata": {
    "accelerator": "GPU",
    "colab": {
      "provenance": [],
      "include_colab_link": true
    },
    "gpuClass": "standard",
    "kernelspec": {
      "display_name": "Python 3",
      "name": "python3"
    },
    "language_info": {
      "name": "python"
    }
  },
  "nbformat": 4,
  "nbformat_minor": 0
}
