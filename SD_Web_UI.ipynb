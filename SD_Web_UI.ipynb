{
  "cells": [
    {
      "cell_type": "markdown",
      "metadata": {
        "id": "view-in-github",
        "colab_type": "text"
      },
      "source": [
        "<a href=\"https://colab.research.google.com/github/McRoyce/stable-diffusion-webui-colaboratory/blob/main/SD_Web_UI.ipynb\" target=\"_parent\"><img src=\"https://colab.research.google.com/assets/colab-badge.svg\" alt=\"Open In Colab\"/></a>"
      ]
    },
    {
      "cell_type": "markdown",
      "source": [
        "#This notebook made with ❤ by McRoyce"
      ],
      "metadata": {
        "id": "gOhvpaHYYJnM"
      }
    },
    {
      "cell_type": "markdown",
      "metadata": {
        "id": "6YImztr-0nHl"
      },
      "source": [
        "#**1. Install Stable Diffusion Web UI**"
      ]
    },
    {
      "cell_type": "code",
      "execution_count": null,
      "metadata": {
        "id": "FralfkJAvw01"
      },
      "outputs": [],
      "source": [
        "!pip install --upgrade fastapi==0.90.1\n",
        "!git clone https://github.com/AUTOMATIC1111/stable-diffusion-webui\n",
        "!git clone https://github.com/yfszzx/stable-diffusion-webui-images-browser /content/stable-diffusion-webui/extensions/stable-diffusion-webui-images-browser\n",
        "!mkdir /content/stable-diffusion-webui/models/Lora"
      ]
    },
    {
      "cell_type": "markdown",
      "metadata": {
        "id": "L9ZkTen_Fh_h"
      },
      "source": [
        "#**2. Install Model or Checkpoint(s)**\n",
        "##*You can search on Civitai.com or HuggingFace.co or Anywhere*\n",
        "\n",
        "Example:<br>\n",
        "!curl -Lo **filename.safetensors https://directlink.com/download/checkpoint** <br>\n",
        "!mv \"/content/**filename.safetensors**\" \"/content/stable-diffusion-webui/models/Stable-diffusion\"\n",
        "\n",
        "***Bold** must change"
      ]
    },
    {
      "cell_type": "code",
      "source": [
        "#Example:\n",
        "#!curl -Lo ChilloutMix-Ni.safetensors https://huggingface.co/TASUKU2023/Chilloutmix/resolve/main/Chilloutmix-Ni.safetensors\n",
        "#!mv \"/content/ChilloutMix-Ni.safetensors\" \"/content/stable-diffusion-webui/models/Stable-diffusion\"\n",
        "\n",
        "!curl -Lo ChilloutMix-Ni.safetensors https://huggingface.co/TASUKU2023/Chilloutmix/resolve/main/Chilloutmix-Ni.safetensors \n",
        "!mv \"/content/ChilloutMix-Ni.safetensors\" \"/content/stable-diffusion-webui/models/Stable-diffusion\""
      ],
      "metadata": {
        "id": "uFvls__cFEhB"
      },
      "execution_count": null,
      "outputs": []
    },
    {
      "cell_type": "markdown",
      "source": [
        "#**3. Install Embedding or Textual Inversion(s)**\n",
        "##*You can search on Civitai.com or HuggingFace.co or Anywhere*\n",
        "\n",
        "Example:<br>\n",
        "!curl -Lo **filename.pt https://directlink.com/download/textual-inversion** <br>\n",
        "!mv \"/content/**filename.pt**\" \"/content/stable-diffusion-webui/embeddings\"\n",
        "\n",
        "***Bold** must change"
      ],
      "metadata": {
        "id": "fL8Lc67UFGt5"
      }
    },
    {
      "cell_type": "code",
      "source": [
        "#Example:\n",
        "#!curl -Lo ulzzang-6500.pt https://moritz.pm/files/ulzzang-6500.pt\n",
        "#!mv \"/content/ulzzang-6500.pt\" \"/content/stable-diffusion-webui/embeddings\"\n",
        "\n",
        "!curl -Lo ulzzang-6500.pt https://moritz.pm/files/ulzzang-6500.pt\n",
        "!mv \"/content/ulzzang-6500.pt\" \"/content/stable-diffusion-webui/embeddings\""
      ],
      "metadata": {
        "id": "sufpDz8LFVqH"
      },
      "execution_count": null,
      "outputs": []
    },
    {
      "cell_type": "markdown",
      "source": [
        "#**4. Install LoRA(s)**\n",
        "##*You can search on Civitai.com or HuggingFace.co or Anywhere*\n",
        "\n",
        "Example:<br>\n",
        "!curl -Lo **filename.safetensors https://directlink.com/download/** <br>\n",
        "!mv \"/content/**name.safetensors**\" \"/content/stable-diffusion-webui/models/Lora\"\n",
        "\n",
        "***Bold** must change"
      ],
      "metadata": {
        "id": "fFSC3SeSFWbR"
      }
    },
    {
      "cell_type": "code",
      "source": [
        "#Example:\n",
        "#!curl -Lo koreanDollLikeness_v10.safetensors https://civitai.com/api/download/models/8750\n",
        "#!mv \"/content/koreanDollLikeness_v10.safetensors\" \"/content/stable-diffusion-webui/models/Lora\"\n",
        "\n",
        "!curl -Lo koreanDollLikeness_v10.safetensors https://civitai.com/api/download/models/8750\n",
        "!mv \"/content/koreanDollLikeness_v10.safetensors\" \"/content/stable-diffusion-webui/models/Lora\""
      ],
      "metadata": {
        "id": "NyphTOn6Fw84"
      },
      "execution_count": null,
      "outputs": []
    },
    {
      "cell_type": "markdown",
      "source": [
        "#**5. Launch Web UI**\n",
        "##*Open public URL*\n",
        "\n",
        "Example:<br>\n",
        "Running on public URL: https://numbers.gradio.app"
      ],
      "metadata": {
        "id": "Gajv7imLGRqX"
      }
    },
    {
      "cell_type": "code",
      "execution_count": null,
      "metadata": {
        "colab": {
          "background_save": true
        },
        "id": "Y62WUigvFhBR"
      },
      "outputs": [],
      "source": [
        "%cd /content/stable-diffusion-webui\n",
        "!git checkout 91c8d0d\n",
        "!COMMANDLINE_ARGS=\"--share --xformers --reinstall-xformers --enable-insecure-extension-access\" REQS_FILE=\"requirements.txt\" python launch.py"
      ]
    }
  ],
  "metadata": {
    "accelerator": "GPU",
    "colab": {
      "provenance": [],
      "include_colab_link": true
    },
    "gpuClass": "standard",
    "kernelspec": {
      "display_name": "Python 3",
      "name": "python3"
    },
    "language_info": {
      "name": "python"
    }
  },
  "nbformat": 4,
  "nbformat_minor": 0
}